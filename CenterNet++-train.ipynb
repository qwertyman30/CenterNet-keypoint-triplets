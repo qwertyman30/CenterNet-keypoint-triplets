{
 "cells": [
  {
   "cell_type": "code",
   "execution_count": null,
   "id": "f5fe9ad7",
   "metadata": {
    "pycharm": {
     "name": "#%%\n"
    }
   },
   "outputs": [],
   "source": [
    "from functools import partial\n",
    "from tqdm import tqdm\n",
    "import numpy as np\n",
    "import os\n",
    "\n",
    "os.environ['CUDA_VISIBLE_DEVICES'] = \"0\"\n",
    "os.environ['CUDA_LAUNCH_BLOCKING'] = \"1\"\n",
    "\n",
    "import torch\n",
    "import matplotlib.pyplot as plt\n",
    "from mmcv.runner import build_optimizer\n",
    "from mmcv.parallel import MMDataParallel\n",
    "\n",
    "from dataset.coco import COCO\n",
    "from dataset.utils.collate import collate\n",
    "from dataset.utils.group_sampler import GroupSampler\n",
    "\n",
    "from model.dense_heads.pycenternet_head import PyCenterNetHead\n",
    "from model.backbone.resnet import ResNet\n",
    "from model.neck.fpn import FPN\n",
    "from model.detectors.pycenternet_detector import PyCenterNetDetector\n",
    "from model.utils.utils import clip_grads, save_model\n",
    "from model.model_config import *"
   ]
  },
  {
   "cell_type": "code",
   "execution_count": null,
   "id": "a1a098c9",
   "metadata": {},
   "outputs": [],
   "source": [
    "print(torch.cuda.is_available())\n",
    "print(torch.version.cuda)\n",
    "torch.cuda.empty_cache()\n",
    "\n",
    "seed = 42\n",
    "torch.manual_seed(seed)\n",
    "np.random.seed(seed)"
   ]
  },
  {
   "cell_type": "code",
   "execution_count": null,
   "id": "fafbba02",
   "metadata": {},
   "outputs": [],
   "source": [
    "opts = dict()\n",
    "opts[\"img_scale\"] = (1333, 800)\n",
    "opts[\"keep_ratio\"] = True\n",
    "opts[\"flip_ratio\"] = 0.5\n",
    "opts[\"mean\"] = [123.675, 116.28, 103.53]\n",
    "opts[\"std\"] = [58.395, 57.12, 57.375]\n",
    "opts[\"to_rgb\"] = True\n",
    "opts[\"size_divisor\"] = 32\n",
    "opts[\"data_root\"] = \"Data/\"\n",
    "opts[\"batch_size\"] = 2\n",
    "opts[\"ann_file\"] = \"Data/COCO/annotations/instances_train2017.json\"\n",
    "opts[\"img_prefix\"] = \"Data/COCO/images/train2017\"\n",
    "opts[\"seg_prefix\"] = None\n",
    "opts[\"num_epochs\"] = 72"
   ]
  },
  {
   "cell_type": "code",
   "execution_count": null,
   "id": "d7af847f",
   "metadata": {},
   "outputs": [],
   "source": [
    "dataset = COCO(opts)\n",
    "sampler = GroupSampler(dataset, 2)\n",
    "\n",
    "train_loader = torch.utils.data.DataLoader(\n",
    "    dataset,\n",
    "    batch_size=opts[\"batch_size\"],\n",
    "    sampler=sampler,\n",
    "    num_workers=2,\n",
    "    collate_fn=partial(collate, samples_per_gpu=2),\n",
    "    pin_memory=False,\n",
    "    worker_init_fn=None)"
   ]
  },
  {
   "cell_type": "code",
   "execution_count": null,
   "id": "717e21aa",
   "metadata": {},
   "outputs": [],
   "source": [
    "backbone = ResNet(**backbone_cfg).cuda()\n",
    "neck = FPN(**neck_cfg).cuda()\n",
    "bbox_head = PyCenterNetHead(**bbox_head_cfg).cuda()\n",
    "detector = PyCenterNetDetector(backbone, neck, bbox_head, train_cfg=train_cfg, test_cfg=test_cfg).cuda()\n",
    "optimizer = build_optimizer(detector, optimizer_cfg)\n",
    "\n",
    "model = MMDataParallel(detector.cuda(0), device_ids=range(0, 1))"
   ]
  },
  {
   "cell_type": "code",
   "execution_count": null,
   "id": "0e0ef44b",
   "metadata": {},
   "outputs": [],
   "source": [
    "progress = tqdm(range(1, opts[\"num_epochs\"] + 1))\n",
    "LOSS_CLS, LOSS_PTS_INIT, LOSS_PTS_REFINE, LOSS_HEATMAP, LOSS_OFFSET, LOSS_SEM, LOSS = [], [], [], [], [], [], []\n",
    "for epoch in progress:\n",
    "    loss_cls_, loss_pts_init_, loss_pts_refine_, loss_heatmap_, loss_offset_, loss_sem_, loss_ = [], [], [], [], [], [], []\n",
    "    for results in train_loader:\n",
    "        LOSS = model.train_step(results, optimizer)\n",
    "        log_vars = LOSS[\"log_vars\"]\n",
    "        loss_cls = log_vars['loss_cls']\n",
    "        loss_pts_init = log_vars['loss_pts_init']\n",
    "        loss_pts_refine = log_vars['loss_pts_refine']\n",
    "        loss_heatmap = log_vars['loss_heatmap']\n",
    "        loss_offset = log_vars['loss_offset']\n",
    "        loss_sem = log_vars['loss_sem']\n",
    "        loss = log_vars['loss']\n",
    "        progress.set_description(\n",
    "            \"LOSS: {}, LOSS_CLS: {} LOSS_PTS_INIT: {} LOSS_PTS_REFINE: {} LOSS_HEATMAP: {} LOSS_OFFSET: {} LOSS_SEM: {}\"\n",
    "            .format(log_vars['loss'], loss_cls, loss_pts_init, loss_pts_refine,\n",
    "                    loss_heatmap, loss_offset, loss_sem, loss))\n",
    "        optimizer.zero_grad()\n",
    "        LOSS[\"loss\"].backward()\n",
    "        if grad_clip is not None:\n",
    "            clip_grads(model.parameters(), grad_clip)\n",
    "        optimizer.step()\n",
    "        loss_cls_.append(loss_cls)\n",
    "        loss_pts_init_.append(loss_pts_init)\n",
    "        loss_pts_refine_.append(loss_pts_refine)\n",
    "        loss_heatmap_.append(loss_heatmap)\n",
    "        loss_offset_.append(loss_offset)\n",
    "        loss_sem_.append(loss_sem)\n",
    "        loss_.append(loss)\n",
    "    loss_cls_mean = np.mean(loss_cls_)\n",
    "    loss_pts_init_mean = np.mean(loss_pts_init_)\n",
    "    loss_pts_refine_mean = np.mean(loss_pts_refine_)\n",
    "    loss_heatmap_mean = np.mean(loss_heatmap_)\n",
    "    loss_offset_mean = np.mean(loss_offset_)\n",
    "    loss_sem_mean = np.mean(loss_sem_)\n",
    "    loss_mean = np.mean(loss_)\n",
    "\n",
    "    LOSS.append(loss_mean)\n",
    "    LOSS_CLS.append(loss_cls_mean)\n",
    "    LOSS_PTS_INIT.append(loss_pts_init_mean)\n",
    "    LOSS_PTS_REFINE.append(loss_pts_refine_mean)\n",
    "    LOSS_HEATMAP.append(loss_heatmap_mean)\n",
    "    LOSS_OFFSET.append(loss_offset_mean)\n",
    "    LOSS_SEM.append(loss_sem_mean)\n",
    "    if epoch % 10 or epoch == opts[\"num_epochs\"]:\n",
    "        save_model(model, optimizer, epoch,\n",
    "                   LOSS, LOSS_CLS, LOSS_PTS_INIT, LOSS_PTS_REFINE,\n",
    "                   LOSS_HEATMAP, LOSS_OFFSET, LOSS_SEM)\n",
    "    print(\n",
    "        f\"LOSS_CLS: {loss_cls_mean}, LOSS_PTS_INIT: {loss_pts_init_mean}, LOSS_PTS_REFINE: {loss_pts_refine_mean}, LOSS_HEATMAP: {loss_heatmap_mean}, LOSS_OFFSET: {loss_offset_mean}, LOSS_SEM: {loss_sem_mean}, LOSS: {loss_mean}\")"
   ]
  },
  {
   "cell_type": "code",
   "execution_count": null,
   "id": "85ef72c5",
   "metadata": {},
   "outputs": [],
   "source": [
    "plt.plot(LOSS)\n",
    "plt.xlabel(\"Epochs\")\n",
    "plt.ylabel(\"Loss\")\n",
    "plt.title(\"LOSS\")\n",
    "plt.savefig(\"LOSS.png\")\n",
    "plt.show()\n",
    "plt.clf()\n",
    "plt.cla()\n",
    "plt.close()"
   ]
  },
  {
   "cell_type": "code",
   "execution_count": null,
   "id": "aaeefcc1",
   "metadata": {},
   "outputs": [],
   "source": [
    "plt.plot(LOSS_CLS)\n",
    "plt.xlabel(\"Epochs\")\n",
    "plt.ylabel(\"Loss\")\n",
    "plt.title(\"Losses_CLS\")\n",
    "plt.savefig(\"losses_cls.png\")\n",
    "plt.show()\n",
    "plt.clf()\n",
    "plt.cla()\n",
    "plt.close()"
   ]
  },
  {
   "cell_type": "code",
   "execution_count": null,
   "id": "ce783a2b",
   "metadata": {},
   "outputs": [],
   "source": [
    "plt.plot(LOSS_PTS_INIT)\n",
    "plt.xlabel(\"Epochs\")\n",
    "plt.ylabel(\"Loss\")\n",
    "plt.title(\"LOSS_PTS_INIT\")\n",
    "plt.savefig(\"LOSS_PTS_INIT.png\")\n",
    "plt.show()\n",
    "plt.clf()\n",
    "plt.cla()\n",
    "plt.close()"
   ]
  },
  {
   "cell_type": "code",
   "execution_count": null,
   "id": "0b0e9d8d",
   "metadata": {},
   "outputs": [],
   "source": [
    "plt.plot(LOSS_PTS_REFINE)\n",
    "plt.xlabel(\"Epochs\")\n",
    "plt.ylabel(\"Loss\")\n",
    "plt.title(\"LOSS_PTS_REFINE\")\n",
    "plt.savefig(\"LOSS_PTS_REFINE.png\")\n",
    "plt.show()\n",
    "plt.clf()\n",
    "plt.cla()\n",
    "plt.close()"
   ]
  },
  {
   "cell_type": "code",
   "execution_count": null,
   "id": "a910d1a9",
   "metadata": {},
   "outputs": [],
   "source": [
    "plt.plot(LOSS_HEATMAP)\n",
    "plt.xlabel(\"Epochs\")\n",
    "plt.ylabel(\"Loss\")\n",
    "plt.title(\"LOSS_HEATMAP\")\n",
    "plt.savefig(\"LOSS_HEATMAP.png\")\n",
    "plt.show()\n",
    "plt.clf()\n",
    "plt.cla()\n",
    "plt.close()"
   ]
  },
  {
   "cell_type": "code",
   "execution_count": null,
   "id": "1f612e27",
   "metadata": {},
   "outputs": [],
   "source": [
    "plt.plot(LOSS_OFFSET)\n",
    "plt.xlabel(\"Epochs\")\n",
    "plt.ylabel(\"Loss\")\n",
    "plt.title(\"LOSS_OFFSET\")\n",
    "plt.savefig(\"LOSS_OFFSET.png\")\n",
    "plt.show()\n",
    "plt.clf()\n",
    "plt.cla()\n",
    "plt.close()"
   ]
  },
  {
   "cell_type": "code",
   "execution_count": null,
   "id": "cc76f57a",
   "metadata": {},
   "outputs": [],
   "source": [
    "plt.plot(LOSS_SEM)\n",
    "plt.xlabel(\"Epochs\")\n",
    "plt.ylabel(\"Loss\")\n",
    "plt.title(\"LOSS_SEM\")\n",
    "plt.savefig(\"LOSS_SEM.png\")\n",
    "plt.show()\n",
    "plt.clf()\n",
    "plt.cla()\n",
    "plt.close()"
   ]
  },
  {
   "cell_type": "code",
   "execution_count": null,
   "id": "60cd03a8",
   "metadata": {},
   "outputs": [],
   "source": []
  }
 ],
 "metadata": {
  "kernelspec": {
   "display_name": "Python 3 (ipykernel)",
   "language": "python",
   "name": "python3"
  },
  "language_info": {
   "codemirror_mode": {
    "name": "ipython",
    "version": 3
   },
   "file_extension": ".py",
   "mimetype": "text/x-python",
   "name": "python",
   "nbconvert_exporter": "python",
   "pygments_lexer": "ipython3",
   "version": "3.8.13"
  }
 },
 "nbformat": 4,
 "nbformat_minor": 5
}
