{
 "cells": [
  {
   "cell_type": "code",
   "execution_count": 1,
   "id": "f5fe9ad7",
   "metadata": {
    "pycharm": {
     "name": "#%%\n"
    }
   },
   "outputs": [
    {
     "name": "stderr",
     "output_type": "stream",
     "text": [
      "/home/monish/anaconda3/envs/thesis/lib/python3.8/site-packages/tqdm/auto.py:22: TqdmWarning: IProgress not found. Please update jupyter and ipywidgets. See https://ipywidgets.readthedocs.io/en/stable/user_install.html\n",
      "  from .autonotebook import tqdm as notebook_tqdm\n"
     ]
    },
    {
     "name": "stdout",
     "output_type": "stream",
     "text": [
      "apex is not installed\n"
     ]
    }
   ],
   "source": [
    "from tqdm import tqdm\n",
    "import numpy as np\n",
    "import os\n",
    "\n",
    "os.environ['CUDA_VISIBLE_DEVICES'] = \"0\"\n",
    "os.environ['CUDA_LAUNCH_BLOCKING'] = \"1\"\n",
    "\n",
    "import torch\n",
    "import matplotlib.pyplot as plt\n",
    "from mmcv.runner import build_optimizer\n",
    "\n",
    "from dataset.coco import COCO\n",
    "from dataset.kitti import KITTI\n",
    "from dataset.utils.collate import collate\n",
    "\n",
    "from model.dense_heads.pycenternet_head import PyCenterNetHead\n",
    "from model.backbone.resnet import ResNet\n",
    "# from model.backbone.dla import dla34\n",
    "from model.neck.fpn import FPN\n",
    "from model.detectors.pycenternet_detector import PyCenterNetDetector\n",
    "from model.utils.utils import clip_grads, save_model, update_lr\n",
    "from model.model_config import *\n",
    "from mmcv.parallel.data_parallel import scatter_kwargs"
   ]
  },
  {
   "cell_type": "code",
   "execution_count": 2,
   "id": "a1a098c9",
   "metadata": {},
   "outputs": [
    {
     "name": "stdout",
     "output_type": "stream",
     "text": [
      "True\n",
      "11.3\n"
     ]
    }
   ],
   "source": [
    "print(torch.cuda.is_available())\n",
    "print(torch.version.cuda)\n",
    "torch.cuda.empty_cache()\n",
    "\n",
    "seed = 42\n",
    "torch.manual_seed(seed)\n",
    "np.random.seed(seed)"
   ]
  },
  {
   "cell_type": "code",
   "execution_count": 3,
   "id": "fafbba02",
   "metadata": {},
   "outputs": [
    {
     "name": "stdout",
     "output_type": "stream",
     "text": [
      "loading annotations into memory...\n",
      "Done (t=0.48s)\n",
      "creating index...\n",
      "index created!\n",
      "Loaded 7481 samples\n"
     ]
    }
   ],
   "source": [
    "# Dataset and loader\n",
    "if opts[\"dataset\"] == \"coco\":\n",
    "    dataset = COCO(opts)\n",
    "elif opts[\"dataset\"] == \"kitti\":\n",
    "    dataset = KITTI(opts)\n",
    "train_loader = torch.utils.data.DataLoader(\n",
    "    dataset,\n",
    "    batch_size=opts[\"batch_size\"],\n",
    "    shuffle=True,\n",
    "    num_workers=2,\n",
    "    collate_fn=collate,\n",
    "    pin_memory=True)"
   ]
  },
  {
   "cell_type": "code",
   "execution_count": 4,
   "id": "d7af847f",
   "metadata": {},
   "outputs": [
    {
     "name": "stderr",
     "output_type": "stream",
     "text": [
      "2022-09-28 15:41:53,891 - mmdet - INFO - load model from: pretrained/resnet50-19c8e357.pth\n",
      "2022-09-28 15:41:53,892 - mmdet - INFO - load checkpoint from local path: pretrained/resnet50-19c8e357.pth\n",
      "2022-09-28 15:41:54,111 - mmdet - WARNING - The model and loaded state dict do not match exactly\n",
      "\n",
      "unexpected key in source state_dict: fc.weight, fc.bias\n",
      "\n"
     ]
    }
   ],
   "source": [
    "# Model\n",
    "backbone = ResNet(**backbone_cfg).cuda()\n",
    "# backbone = dla34(pretrained=True).cuda()\n",
    "neck = FPN(**neck_cfg).cuda()\n",
    "bbox_head = PyCenterNetHead(**bbox_head_cfg).cuda()\n",
    "detector = PyCenterNetDetector(backbone, neck, bbox_head, train_cfg=train_cfg, test_cfg=test_cfg,\n",
    "                               pretrained=\"pretrained/resnet50-19c8e357.pth\").cuda()\n",
    "optimizer = build_optimizer(detector, optimizer_cfg)"
   ]
  },
  {
   "cell_type": "code",
   "execution_count": null,
   "id": "0e0ef44b",
   "metadata": {},
   "outputs": [],
   "source": [
    "# Training\n",
    "progress = tqdm(range(1, opts[\"num_epochs\"] + 1))\n",
    "LOSS_CLS, LOSS_PTS_INIT, LOSS_PTS_REFINE, LOSS_HEATMAP, LOSS_OFFSET, LOSS_SEM, LOSSES = [], [], [], [], [], [], []\n",
    "curr_iter = 0\n",
    "keys = []\n",
    "for epoch in progress:\n",
    "    loss_cls_, loss_pts_init_, loss_pts_refine_, loss_heatmap_, loss_offset_, loss_sem_, loss_ = [], [], [], [], [], [], []\n",
    "    for results in train_loader:\n",
    "        # LOSS = model.train_step(results, optimizer)\n",
    "        results, _ = scatter_kwargs(results, None, [0])\n",
    "        LOSS = detector.train_step(results[0])\n",
    "\n",
    "        log_vars = LOSS[\"log_vars\"]\n",
    "        loss_cls = log_vars['loss_cls']\n",
    "        loss_pts_init = log_vars['loss_pts_init']\n",
    "        loss_pts_refine = log_vars['loss_pts_refine']\n",
    "        loss_heatmap = log_vars['loss_heatmap']\n",
    "        loss_offset = log_vars['loss_offset']\n",
    "        loss_sem = log_vars['loss_sem']\n",
    "        loss = log_vars['loss']\n",
    "        progress.set_description(\n",
    "            \"LOSS: {}, LOSS_CLS: {} LOSS_PTS_INIT: {} LOSS_PTS_REFINE: {} LOSS_HEATMAP: {} LOSS_OFFSET: {} LOSS_SEM: {}\"\n",
    "            .format(log_vars['loss'], loss_cls, loss_pts_init, loss_pts_refine,\n",
    "                    loss_heatmap, loss_offset, loss_sem, loss))\n",
    "\n",
    "        # backprop\n",
    "        optimizer.zero_grad()\n",
    "        LOSS[\"loss\"].backward()\n",
    "        if grad_clip is not None:\n",
    "            clip_grads(detector.parameters(), grad_clip)\n",
    "        optimizer.step()\n",
    "\n",
    "        loss_cls_.append(loss_cls)\n",
    "        loss_pts_init_.append(loss_pts_init)\n",
    "        loss_pts_refine_.append(loss_pts_refine)\n",
    "        loss_heatmap_.append(loss_heatmap)\n",
    "        loss_offset_.append(loss_offset)\n",
    "        loss_sem_.append(loss_sem)\n",
    "        loss_.append(loss)\n",
    "\n",
    "        curr_iter += 1\n",
    "        # keep lr low when iters less than warmup period and then increase\n",
    "        if curr_iter == 500:\n",
    "            update_lr(optimizer, opts[\"post_warmup_lr\"])\n",
    "\n",
    "    loss_cls_mean = np.mean(loss_cls_)\n",
    "    loss_pts_init_mean = np.mean(loss_pts_init_)\n",
    "    loss_pts_refine_mean = np.mean(loss_pts_refine_)\n",
    "    loss_heatmap_mean = np.mean(loss_heatmap_)\n",
    "    loss_offset_mean = np.mean(loss_offset_)\n",
    "    loss_sem_mean = np.mean(loss_sem_)\n",
    "    loss_mean = np.mean(loss_)\n",
    "\n",
    "    LOSSES.append(loss_mean)\n",
    "    LOSS_CLS.append(loss_cls_mean)\n",
    "    LOSS_PTS_INIT.append(loss_pts_init_mean)\n",
    "    LOSS_PTS_REFINE.append(loss_pts_refine_mean)\n",
    "    LOSS_HEATMAP.append(loss_heatmap_mean)\n",
    "    LOSS_OFFSET.append(loss_offset_mean)\n",
    "    LOSS_SEM.append(loss_sem_mean)\n",
    "\n",
    "    if epoch in opts[\"lr_step\"]:\n",
    "        lr = opts[\"post_warmup_lr\"] * (0.1 ** (opts[\"lr_step\"].index(epoch) + 1))\n",
    "        update_lr(optimizer, lr)\n",
    "\n",
    "    if epoch % 10 == 0 or epoch == opts[\"num_epochs\"]:\n",
    "        save_model(detector, optimizer, epoch,\n",
    "                   LOSSES, LOSS_CLS, LOSS_PTS_INIT, LOSS_PTS_REFINE,\n",
    "                   LOSS_HEATMAP, LOSS_OFFSET, LOSS_SEM)\n",
    "    print(\n",
    "        f\"LOSS_CLS: {loss_cls_mean}, LOSS_PTS_INIT: {loss_pts_init_mean}, LOSS_PTS_REFINE: {loss_pts_refine_mean}, LOSS_HEATMAP: {loss_heatmap_mean}, LOSS_OFFSET: {loss_offset_mean}, LOSS_SEM: {loss_sem_mean}, LOSS: {loss_mean}\\n\")"
   ]
  },
  {
   "cell_type": "code",
   "execution_count": null,
   "id": "85ef72c5",
   "metadata": {},
   "outputs": [],
   "source": [
    "plt.plot(LOSS)\n",
    "plt.xlabel(\"Epochs\")\n",
    "plt.ylabel(\"Loss\")\n",
    "plt.title(\"LOSS\")\n",
    "plt.savefig(\"LOSS.png\")\n",
    "plt.show()\n",
    "plt.clf()\n",
    "plt.cla()\n",
    "plt.close()"
   ]
  },
  {
   "cell_type": "code",
   "execution_count": null,
   "id": "aaeefcc1",
   "metadata": {},
   "outputs": [],
   "source": [
    "plt.plot(LOSS_CLS)\n",
    "plt.xlabel(\"Epochs\")\n",
    "plt.ylabel(\"Loss\")\n",
    "plt.title(\"Losses_CLS\")\n",
    "plt.savefig(\"losses_cls.png\")\n",
    "plt.show()\n",
    "plt.clf()\n",
    "plt.cla()\n",
    "plt.close()"
   ]
  },
  {
   "cell_type": "code",
   "execution_count": null,
   "id": "ce783a2b",
   "metadata": {},
   "outputs": [],
   "source": [
    "plt.plot(LOSS_PTS_INIT)\n",
    "plt.xlabel(\"Epochs\")\n",
    "plt.ylabel(\"Loss\")\n",
    "plt.title(\"LOSS_PTS_INIT\")\n",
    "plt.savefig(\"LOSS_PTS_INIT.png\")\n",
    "plt.show()\n",
    "plt.clf()\n",
    "plt.cla()\n",
    "plt.close()"
   ]
  },
  {
   "cell_type": "code",
   "execution_count": null,
   "id": "0b0e9d8d",
   "metadata": {},
   "outputs": [],
   "source": [
    "plt.plot(LOSS_PTS_REFINE)\n",
    "plt.xlabel(\"Epochs\")\n",
    "plt.ylabel(\"Loss\")\n",
    "plt.title(\"LOSS_PTS_REFINE\")\n",
    "plt.savefig(\"LOSS_PTS_REFINE.png\")\n",
    "plt.show()\n",
    "plt.clf()\n",
    "plt.cla()\n",
    "plt.close()"
   ]
  },
  {
   "cell_type": "code",
   "execution_count": null,
   "id": "a910d1a9",
   "metadata": {},
   "outputs": [],
   "source": [
    "plt.plot(LOSS_HEATMAP)\n",
    "plt.xlabel(\"Epochs\")\n",
    "plt.ylabel(\"Loss\")\n",
    "plt.title(\"LOSS_HEATMAP\")\n",
    "plt.savefig(\"LOSS_HEATMAP.png\")\n",
    "plt.show()\n",
    "plt.clf()\n",
    "plt.cla()\n",
    "plt.close()"
   ]
  },
  {
   "cell_type": "code",
   "execution_count": null,
   "id": "1f612e27",
   "metadata": {},
   "outputs": [],
   "source": [
    "plt.plot(LOSS_OFFSET)\n",
    "plt.xlabel(\"Epochs\")\n",
    "plt.ylabel(\"Loss\")\n",
    "plt.title(\"LOSS_OFFSET\")\n",
    "plt.savefig(\"LOSS_OFFSET.png\")\n",
    "plt.show()\n",
    "plt.clf()\n",
    "plt.cla()\n",
    "plt.close()"
   ]
  },
  {
   "cell_type": "code",
   "execution_count": null,
   "id": "cc76f57a",
   "metadata": {},
   "outputs": [],
   "source": [
    "plt.plot(LOSS_SEM)\n",
    "plt.xlabel(\"Epochs\")\n",
    "plt.ylabel(\"Loss\")\n",
    "plt.title(\"LOSS_SEM\")\n",
    "plt.savefig(\"LOSS_SEM.png\")\n",
    "plt.show()\n",
    "plt.clf()\n",
    "plt.cla()\n",
    "plt.close()"
   ]
  },
  {
   "cell_type": "code",
   "execution_count": 1,
   "id": "60cd03a8",
   "metadata": {},
   "outputs": [],
   "source": [
    "import numpy as np"
   ]
  },
  {
   "cell_type": "code",
   "execution_count": 13,
   "id": "c3ec3b09",
   "metadata": {},
   "outputs": [
    {
     "data": {
      "text/plain": [
       "array([0.229, 0.224, 0.225])"
      ]
     },
     "execution_count": 13,
     "metadata": {},
     "output_type": "execute_result"
    }
   ],
   "source": [
    "np.array([58.395, 57.12, 57.375]) / 255."
   ]
  },
  {
   "cell_type": "code",
   "execution_count": 14,
   "id": "193f080d",
   "metadata": {},
   "outputs": [
    {
     "data": {
      "text/plain": [
       "array([58.395, 57.12 , 57.375])"
      ]
     },
     "execution_count": 14,
     "metadata": {},
     "output_type": "execute_result"
    }
   ],
   "source": [
    "np.array([0.229, 0.224, 0.225]) * 255."
   ]
  },
  {
   "cell_type": "code",
   "execution_count": null,
   "id": "8905fd44",
   "metadata": {},
   "outputs": [],
   "source": []
  }
 ],
 "metadata": {
  "kernelspec": {
   "display_name": "Python 3 (ipykernel)",
   "language": "python",
   "name": "python3"
  },
  "language_info": {
   "codemirror_mode": {
    "name": "ipython",
    "version": 3
   },
   "file_extension": ".py",
   "mimetype": "text/x-python",
   "name": "python",
   "nbconvert_exporter": "python",
   "pygments_lexer": "ipython3",
   "version": "3.8.13"
  }
 },
 "nbformat": 4,
 "nbformat_minor": 5
}
